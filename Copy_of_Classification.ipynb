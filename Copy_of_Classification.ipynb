{
  "nbformat": 4,
  "nbformat_minor": 0,
  "metadata": {
    "colab": {
      "name": "Copy of Classification.ipynb",
      "provenance": [],
      "authorship_tag": "ABX9TyPokAwyI9UJDQ9ZwG8MySZ7",
      "include_colab_link": true
    },
    "kernelspec": {
      "name": "python3",
      "display_name": "Python 3"
    },
    "language_info": {
      "name": "python"
    }
  },
  "cells": [
    {
      "cell_type": "markdown",
      "metadata": {
        "id": "view-in-github",
        "colab_type": "text"
      },
      "source": [
        "<a href=\"https://colab.research.google.com/github/Taelelrey/AI/blob/main/Copy_of_Classification.ipynb\" target=\"_parent\"><img src=\"https://colab.research.google.com/assets/colab-badge.svg\" alt=\"Open In Colab\"/></a>"
      ]
    },
    {
      "cell_type": "markdown",
      "source": [
        "#Imports"
      ],
      "metadata": {
        "id": "ayh2wkl4KKYx"
      }
    },
    {
      "cell_type": "code",
      "execution_count": null,
      "metadata": {
        "id": "zW6zvJ2AJ_nH"
      },
      "outputs": [],
      "source": [
        "import numpy as np\n",
        "import matplotlib.pyplot as plt\n",
        "%matplotlib inline\n",
        "import keras\n",
        "from keras.models import Sequential\n",
        "from keras.layers import Dense, Dropout\n",
        "from sklearn.metrics import confusion_matrix\n",
        "import seaborn as sns\n",
        "from keras.utils import np_utils\n",
        "import tensorflow as tf\n",
        "\n",
        "np.random.seed(0)"
      ]
    },
    {
      "cell_type": "markdown",
      "source": [
        "#Data\n"
      ],
      "metadata": {
        "id": "UN-oZEEbK9GS"
      }
    },
    {
      "cell_type": "code",
      "source": [
        "from keras.datasets import mnist\n",
        "(x_train, y_train), (x_test,y_test) = mnist.load_data()"
      ],
      "metadata": {
        "id": "iLkjTGbrLBm_"
      },
      "execution_count": null,
      "outputs": []
    },
    {
      "cell_type": "code",
      "source": [
        "print(x_train.shape, y_train.shape)\n",
        "print(x_test.shape, y_test.shape)"
      ],
      "metadata": {
        "colab": {
          "base_uri": "https://localhost:8080/"
        },
        "id": "pDFRlcCLLc3q",
        "outputId": "a5ce63e6-20dd-4db0-8ff1-e4d49eea26cd"
      },
      "execution_count": null,
      "outputs": [
        {
          "output_type": "stream",
          "name": "stdout",
          "text": [
            "(60000, 28, 28) (60000,)\n",
            "(10000, 28, 28) (10000,)\n"
          ]
        }
      ]
    },
    {
      "cell_type": "markdown",
      "source": [
        "#Visulize examples\n"
      ],
      "metadata": {
        "id": "RMeQEZbJLwiG"
      }
    },
    {
      "cell_type": "code",
      "source": [
        "num_classes= 10\n",
        "f, ax = plt.subplots(1, num_classes, figsize=(20,20))\n",
        "\n",
        "for i in range (0, num_classes):\n",
        "  sample = x_train[y_train == i] [0]\n",
        "  ax[i].imshow(sample, cmap='gray')\n",
        "  ax[i].set_title(\"Lanel: {}\". format(i), fontsize=15)"
      ],
      "metadata": {
        "colab": {
          "base_uri": "https://localhost:8080/",
          "height": 160
        },
        "id": "SUsBAUsJL2P_",
        "outputId": "1cd5b828-451b-43f0-a573-14b9be2af81f"
      },
      "execution_count": null,
      "outputs": [
        {
          "output_type": "display_data",
          "data": {
            "text/plain": [
              "<Figure size 1440x1440 with 10 Axes>"
            ],
            "image/png": "[encoded data removed]"
          },
          "metadata": {
            "needs_background": "light"
          }
        }
      ]
    },
    {
      "cell_type": "code",
      "source": [
        "for i in range(10):\n",
        "  print(y_train[i])"
      ],
      "metadata": {
        "colab": {
          "base_uri": "https://localhost:8080/"
        },
        "id": "YmiItYMuM2z5",
        "outputId": "16a7a133-d7de-43de-c2af-165097d30872"
      },
      "execution_count": null,
      "outputs": [
        {
          "output_type": "stream",
          "name": "stdout",
          "text": [
            "5\n",
            "0\n",
            "4\n",
            "1\n",
            "9\n",
            "2\n",
            "1\n",
            "3\n",
            "1\n",
            "4\n"
          ]
        }
      ]
    },
    {
      "cell_type": "code",
      "source": [
        "y_train = keras.utils.np_utils.to_categorical (y_train, num_classes)\n",
        "y_test = keras.utils.np_utils.to_categorical(y_test,num_classes)"
      ],
      "metadata": {
        "id": "NNLYS-TiNFvM"
      },
      "execution_count": null,
      "outputs": []
    },
    {
      "cell_type": "code",
      "source": [
        "for i in range(10):\n",
        "  print(y_train[i])"
      ],
      "metadata": {
        "colab": {
          "base_uri": "https://localhost:8080/"
        },
        "id": "T3HA9jILNpjI",
        "outputId": "3d9333e2-46b2-4e39-883c-97bf178f887f"
      },
      "execution_count": null,
      "outputs": [
        {
          "output_type": "stream",
          "name": "stdout",
          "text": [
            "[0. 0. 0. 0. 0. 1. 0. 0. 0. 0.]\n",
            "[1. 0. 0. 0. 0. 0. 0. 0. 0. 0.]\n",
            "[0. 0. 0. 0. 1. 0. 0. 0. 0. 0.]\n",
            "[0. 1. 0. 0. 0. 0. 0. 0. 0. 0.]\n",
            "[0. 0. 0. 0. 0. 0. 0. 0. 0. 1.]\n",
            "[0. 0. 1. 0. 0. 0. 0. 0. 0. 0.]\n",
            "[0. 1. 0. 0. 0. 0. 0. 0. 0. 0.]\n",
            "[0. 0. 0. 1. 0. 0. 0. 0. 0. 0.]\n",
            "[0. 1. 0. 0. 0. 0. 0. 0. 0. 0.]\n",
            "[0. 0. 0. 0. 1. 0. 0. 0. 0. 0.]\n"
          ]
        }
      ]
    },
    {
      "cell_type": "markdown",
      "source": [
        "#Data preparation"
      ],
      "metadata": {
        "id": "-5gN2pvtN1UU"
      }
    },
    {
      "cell_type": "code",
      "source": [
        "# first Normalize the data\n",
        "x_train = x_train/255.0\n",
        "x_test = x_test/255.0"
      ],
      "metadata": {
        "id": "KvKSYvNZN3uC"
      },
      "execution_count": null,
      "outputs": []
    },
    {
      "cell_type": "code",
      "source": [
        "#reshape of data\n",
        "x_train = x_train.reshape(x_train.shape[0], -1)\n",
        "x_test =x_test.reshape(x_test.shape[0], -1)\n",
        "print(x_train.shape)"
      ],
      "metadata": {
        "colab": {
          "base_uri": "https://localhost:8080/"
        },
        "id": "IKuzPXTGOLOF",
        "outputId": "f279d5ce-f9e6-4e72-b492-a8a50f043f17"
      },
      "execution_count": null,
      "outputs": [
        {
          "output_type": "stream",
          "name": "stdout",
          "text": [
            "(60000, 784)\n"
          ]
        }
      ]
    },
    {
      "cell_type": "markdown",
      "source": [
        "#Model creation"
      ],
      "metadata": {
        "id": "LBVR8CRkOymy"
      }
    },
    {
      "cell_type": "code",
      "source": [
        "model= Sequential()\n",
        "\n",
        "model.add(Dense(units=128, input_shape=(784,), activation='relu'))\n",
        "model.add(Dense(units=238, activation='relu'))\n",
        "model.add(Dropout(0.25))\n",
        "model.add(Dense(units=10, activation='softmax'))\n",
        "\n",
        "model.compile(loss='categorical_crossentropy', optimizer='adam', metrics=['accuracy'])\n",
        "model.summary()"
      ],
      "metadata": {
        "colab": {
          "base_uri": "https://localhost:8080/"
        },
        "id": "lVN-PLtSO0_s",
        "outputId": "fe5e1d02-9ad3-4191-8f2b-13de7c84afee"
      },
      "execution_count": null,
      "outputs": [
        {
          "output_type": "stream",
          "name": "stdout",
          "text": [
            "Model: \"sequential_2\"\n",
            "_________________________________________________________________\n",
            " Layer (type)                Output Shape              Param #   \n",
            "=================================================================\n",
            " dense_4 (Dense)             (None, 128)               100480    \n",
            "                                                                 \n",
            " dense_5 (Dense)             (None, 238)               30702     \n",
            "                                                                 \n",
            " dropout_1 (Dropout)         (None, 238)               0         \n",
            "                                                                 \n",
            " dense_6 (Dense)             (None, 10)                2390      \n",
            "                                                                 \n",
            "=================================================================\n",
            "Total params: 133,572\n",
            "Trainable params: 133,572\n",
            "Non-trainable params: 0\n",
            "_________________________________________________________________\n"
          ]
        }
      ]
    },
    {
      "cell_type": "markdown",
      "source": [
        "#Train"
      ],
      "metadata": {
        "id": "BW2lttePQDee"
      }
    },
    {
      "cell_type": "code",
      "source": [
        "batch_size = 512\n",
        "epochs=10\n",
        "model.fit(x=x_train, y=y_train, batch_size=batch_size, epochs=epochs)\n",
        "\n"
      ],
      "metadata": {
        "colab": {
          "base_uri": "https://localhost:8080/"
        },
        "id": "_UAzkayFQAsJ",
        "outputId": "c728f0b4-c0a9-47f7-ba96-347ba587f17d"
      },
      "execution_count": null,
      "outputs": [
        {
          "output_type": "stream",
          "name": "stdout",
          "text": [
            "Epoch 1/10\n",
            "118/118 [==============================] - 2s 11ms/step - loss: 0.5463 - accuracy: 0.8424\n",
            "Epoch 2/10\n",
            "118/118 [==============================] - 1s 11ms/step - loss: 0.2015 - accuracy: 0.9416\n",
            "Epoch 3/10\n",
            "118/118 [==============================] - 1s 11ms/step - loss: 0.1463 - accuracy: 0.9571\n",
            "Epoch 4/10\n",
            "118/118 [==============================] - 1s 11ms/step - loss: 0.1141 - accuracy: 0.9655\n",
            "Epoch 5/10\n",
            "118/118 [==============================] - 1s 11ms/step - loss: 0.0943 - accuracy: 0.9720\n",
            "Epoch 6/10\n",
            "118/118 [==============================] - 1s 11ms/step - loss: 0.0781 - accuracy: 0.9767\n",
            "Epoch 7/10\n",
            "118/118 [==============================] - 1s 11ms/step - loss: 0.0675 - accuracy: 0.9792\n",
            "Epoch 8/10\n",
            "118/118 [==============================] - 1s 11ms/step - loss: 0.0593 - accuracy: 0.9818\n",
            "Epoch 9/10\n",
            "118/118 [==============================] - 1s 11ms/step - loss: 0.0499 - accuracy: 0.9850\n",
            "Epoch 10/10\n",
            "118/118 [==============================] - 1s 11ms/step - loss: 0.0449 - accuracy: 0.9858\n"
          ]
        },
        {
          "output_type": "execute_result",
          "data": {
            "text/plain": [
              "<keras.callbacks.History at 0x7fb241c3af10>"
            ]
          },
          "metadata": {},
          "execution_count": 41
        }
      ]
    },
    {
      "cell_type": "markdown",
      "source": [
        "#Evaluation\n"
      ],
      "metadata": {
        "id": "svXEBcTKQdL1"
      }
    },
    {
      "cell_type": "code",
      "source": [
        "test_loss, test_acc =model.evaluate(x_test, y_test)\n",
        "print(\"Test Loss: {}, Test Accuracy: {}\".format(test_loss, test_acc))"
      ],
      "metadata": {
        "colab": {
          "base_uri": "https://localhost:8080/"
        },
        "id": "KTFQUcT1Qf01",
        "outputId": "f1201519-79c9-4f92-d53e-8327ab7258e3"
      },
      "execution_count": null,
      "outputs": [
        {
          "output_type": "stream",
          "name": "stdout",
          "text": [
            "313/313 [==============================] - 1s 2ms/step - loss: 0.0750 - accuracy: 0.9773\n",
            "Test Loss: 0.07497882097959518, Test Accuracy: 0.9772999882698059\n"
          ]
        }
      ]
    },
    {
      "cell_type": "code",
      "source": [
        "y_pred = model.predict(x_test)\n",
        "y_pred_classes = np.argmax(y_pred, axis=1)\n",
        "print(y_pred)\n",
        "print(y_pred_classes)"
      ],
      "metadata": {
        "colab": {
          "base_uri": "https://localhost:8080/"
        },
        "id": "i2d7vh1VkKmM",
        "outputId": "59725cbd-f488-4942-9650-18d89c896f14"
      },
      "execution_count": null,
      "outputs": [
        {
          "output_type": "stream",
          "name": "stdout",
          "text": [
            "[[1.90421062e-07 4.70756248e-07 5.05943262e-06 ... 9.99938488e-01\n",
            "  6.57481337e-07 1.19011756e-05]\n",
            " [4.44122339e-09 4.12518857e-05 9.99942780e-01 ... 1.09867404e-09\n",
            "  1.52509614e-07 1.17836236e-11]\n",
            " [1.14593843e-06 9.97754037e-01 1.33678317e-04 ... 1.05089566e-03\n",
            "  3.45063570e-04 9.56779695e-06]\n",
            " ...\n",
            " [1.23903027e-10 3.45130102e-09 2.96870972e-10 ... 1.50965172e-06\n",
            "  2.46554350e-07 4.22908033e-06]\n",
            " [1.29220403e-08 7.60912471e-08 3.01407371e-11 ... 1.45299905e-09\n",
            "  7.55281235e-06 7.79256382e-10]\n",
            " [1.19769069e-07 2.40465203e-09 3.29517458e-09 ... 1.46076345e-10\n",
            "  2.03254018e-08 5.39526690e-09]]\n",
            "[7 2 1 ... 4 5 6]\n"
          ]
        }
      ]
    },
    {
      "cell_type": "code",
      "source": [
        "#Example\n",
        "random_idx = np.random.choice(len(x_test))\n",
        "x_sample = x_test[random_idx]\n",
        "y_true =np.argmax(y_test, axis=1)\n",
        "y_sample_true = y_true[random_idx]\n",
        "y_sample_pred_class = y_pred_classes[random_idx]\n",
        "\n",
        "plt.title(\"Predicted: {}, True: {}\".format(y_sample_pred_class, y_sample_true), fontsize=16)\n",
        "mat = x_sample.reshape(28,28)\n",
        "plt.imshow(mat, cmap='gray')"
      ],
      "metadata": {
        "colab": {
          "base_uri": "https://localhost:8080/",
          "height": 300
        },
        "id": "WitJBUkykdsF",
        "outputId": "6f08e447-7135-449e-c8df-a6b064a44b6e"
      },
      "execution_count": null,
      "outputs": [
        {
          "output_type": "execute_result",
          "data": {
            "text/plain": [
              "<matplotlib.image.AxesImage at 0x7fb23eda3490>"
            ]
          },
          "metadata": {},
          "execution_count": 45
        },
        {
          "output_type": "display_data",
          "data": {
            "text/plain": [
              "<Figure size 432x288 with 1 Axes>"
            ],
            "image/png": "[encoded data removed]"
          },
          "metadata": {
            "needs_background": "light"
          }
        }
      ]
    },
    {
      "cell_type": "markdown",
      "source": [
        "#Confusion Matrix"
      ],
      "metadata": {
        "id": "JTNEBlMNk7Jk"
      }
    },
    {
      "cell_type": "code",
      "source": [
        "confusion_mtx =confusion_matrix(y_true, y_pred_classes)\n",
        "\n",
        "#Plot\n",
        "fig, ax = plt.subplots(figsize=(15,10))\n",
        "ax = sns.heatmap(confusion_mtx, annot=True, fmt='d', ax=ax, cmap=\"Reds\")\n",
        "ax.set_xlabel('Predicted label')\n",
        "ax.set_ylabel('True label')\n",
        "ax.set_title('confusion matrix')"
      ],
      "metadata": {
        "colab": {
          "base_uri": "https://localhost:8080/",
          "height": 638
        },
        "id": "dvPsRk4Kkz4t",
        "outputId": "a97807c2-c4a0-4a2a-d6bb-e3d660309d5a"
      },
      "execution_count": null,
      "outputs": [
        {
          "output_type": "execute_result",
          "data": {
            "text/plain": [
              "Text(0.5, 1.0, 'confusion matrix')"
            ]
          },
          "metadata": {},
          "execution_count": 47
        },
        {
          "output_type": "display_data",
          "data": {
            "text/plain": [
              "<Figure size 1080x720 with 2 Axes>"
            ],
            "image/png": "[encoded data removed]"
          },
          "metadata": {
            "needs_background": "light"
          }
        }
      ]
    },
    {
      "cell_type": "markdown",
      "source": [
        "Group G\n",
        "\n",
        "ODIWOUR GEOFFREY CIT-227-012/2018 model creation data preparation\n",
        "\n",
        "ADHIAMBO REBECCA CIT-227-004/2018 visualize examples confusion matrix \n",
        "\n",
        "KAMAU JOHN KIIRU CIT-227-030/2019 training \n",
        "\n",
        "CHERERE ELVIS NDUATI CIT-227-056/2019 evaluation\n",
        "\n",
        "IDIGU NEEMA CIT-227-020/2018 data and imports"
      ],
      "metadata": {
        "id": "qoPqIR4C3xSm"
      }
    }
  ]
}